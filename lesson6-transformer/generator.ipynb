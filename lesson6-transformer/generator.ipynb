{
 "cells": [
  {
   "cell_type": "markdown",
   "id": "8d9711fb",
   "metadata": {},
   "source": [
    "# Генератор текста на базе Transformer"
   ]
  },
  {
   "cell_type": "code",
   "execution_count": 2,
   "id": "930aafb1",
   "metadata": {},
   "outputs": [],
   "source": [
    "import torch\n",
    "import torch.nn as nn\n",
    "import torch.nn.functional as F\n",
    "import torch.optim as optim\n",
    "from torch.utils.data import Dataset, DataLoader\n",
    "\n",
    "import math\n",
    "from tqdm import tqdm\n",
    "from typing import Optional, Tuple\n",
    "\n",
    "from tokenizers import Tokenizer\n"
   ]
  },
  {
   "cell_type": "code",
   "execution_count": 3,
   "id": "507ac387",
   "metadata": {},
   "outputs": [],
   "source": [
    "tokenizer = Tokenizer.from_file(\"mistral_tokenizer.json\")\n",
    "tokenizer.add_special_tokens([\"<pad>\", \"<s>\", \"</s>\"])\n",
    "\n",
    "pad_id = tokenizer.token_to_id(\"<pad>\")\n",
    "bos_id = tokenizer.token_to_id(\"<s>\")\n",
    "eos_id = tokenizer.token_to_id(\"</s>\")\n",
    "vocab_size = tokenizer.get_vocab_size()"
   ]
  },
  {
   "cell_type": "code",
   "execution_count": 4,
   "id": "f20deea4",
   "metadata": {},
   "outputs": [],
   "source": [
    "class TextDataset(Dataset):\n",
    "    def __init__(self, text: str, tokenizer, max_length: int = 128):\n",
    "        self.tokenizer = tokenizer\n",
    "        self.max_length = max_length\n",
    "        \n",
    "        tokens = tokenizer.encode(text).ids\n",
    "        self.samples = []\n",
    "\n",
    "        for i in range(0, len(tokens) - max_length - 1, max_length):\n",
    "            input_ids = tokens[i:i + max_length]\n",
    "            target_ids = tokens[i + 1:i + max_length + 1]\n",
    "            self.samples.append((\n",
    "                torch.tensor(input_ids, dtype=torch.long),\n",
    "                torch.tensor(target_ids, dtype=torch.long)\n",
    "            ))\n",
    "\n",
    "    def __len__(self):\n",
    "        return len(self.samples)\n",
    "\n",
    "    def __getitem__(self, idx):\n",
    "        return self.samples[idx]\n"
   ]
  },
  {
   "cell_type": "code",
   "execution_count": 5,
   "id": "a05fc18d",
   "metadata": {},
   "outputs": [],
   "source": [
    "class PositionalEncoding(nn.Module):\n",
    "    def __init__(self, d_model: int, max_len: int = 5000):\n",
    "        super().__init__()\n",
    "        pe = torch.zeros(max_len, d_model)\n",
    "        position = torch.arange(0, max_len).unsqueeze(1)\n",
    "        div_term = torch.exp(\n",
    "            torch.arange(0, d_model, 2) * (-math.log(10000.0) / d_model)\n",
    "        )\n",
    "        pe[:, 0::2] = torch.sin(position * div_term)\n",
    "        pe[:, 1::2] = torch.cos(position * div_term)\n",
    "        pe = pe.unsqueeze(0)\n",
    "        self.register_buffer('pe', pe)\n",
    "\n",
    "    def forward(self, x):\n",
    "        x = x + self.pe[:, :x.size(1), :]\n",
    "        return x\n",
    "\n",
    "\n",
    "class Embedding(nn.Module):\n",
    "    def __init__(self, vocab_size, d_model, pad_index):\n",
    "        super().__init__()\n",
    "        self.token_embed = nn.Embedding(vocab_size, d_model, padding_idx=pad_index)\n",
    "        self.pos_embed = PositionalEncoding(d_model)\n",
    "\n",
    "    def forward(self, x):\n",
    "        x = self.token_embed(x)\n",
    "        x = self.pos_embed(x)\n",
    "        return x\n"
   ]
  },
  {
   "cell_type": "code",
   "execution_count": 6,
   "id": "ba78b1f0",
   "metadata": {},
   "outputs": [],
   "source": [
    "class MultiheadAttention(nn.Module):\n",
    "    def __init__(self, d_model, num_heads):\n",
    "        super().__init__()\n",
    "        assert d_model % num_heads == 0\n",
    "        self.d_head = d_model // num_heads\n",
    "        self.num_heads = num_heads\n",
    "        self.qkv_proj = nn.Linear(d_model, d_model * 3)\n",
    "        self.out_proj = nn.Linear(d_model, d_model)\n",
    "\n",
    "    def forward(self, x, mask=None):\n",
    "        B, T, D = x.size()\n",
    "        qkv = self.qkv_proj(x)  # (B, T, 3*D)\n",
    "        q, k, v = qkv.chunk(3, dim=-1)\n",
    "\n",
    "        q = q.view(B, T, self.num_heads, self.d_head).transpose(1, 2)\n",
    "        k = k.view(B, T, self.num_heads, self.d_head).transpose(1, 2)\n",
    "        v = v.view(B, T, self.num_heads, self.d_head).transpose(1, 2)\n",
    "\n",
    "        attn_weights = (q @ k.transpose(-2, -1)) / math.sqrt(self.d_head)\n",
    "\n",
    "        if mask is not None:\n",
    "            attn_weights = attn_weights.masked_fill(mask == 0, float('-inf'))\n",
    "\n",
    "        attn = torch.softmax(attn_weights, dim=-1)\n",
    "        out = attn @ v  # (B, heads, T, d_head)\n",
    "        out = out.transpose(1, 2).contiguous().view(B, T, D)\n",
    "        return self.out_proj(out)\n",
    "\n",
    "\n",
    "class DecoderLayer(nn.Module):\n",
    "    def __init__(self, d_model, num_heads, d_ff, dropout):\n",
    "        super().__init__()\n",
    "        self.attn = MultiheadAttention(d_model, num_heads)\n",
    "        self.norm1 = nn.LayerNorm(d_model)\n",
    "        self.ff = nn.Sequential(\n",
    "            nn.Linear(d_model, d_ff),\n",
    "            nn.ReLU(),\n",
    "            nn.Linear(d_ff, d_model)\n",
    "        )\n",
    "        self.norm2 = nn.LayerNorm(d_model)\n",
    "        self.dropout = nn.Dropout(dropout)\n",
    "\n",
    "    def forward(self, x, mask):\n",
    "        x = x + self.dropout(self.attn(self.norm1(x), mask))\n",
    "        x = x + self.dropout(self.ff(self.norm2(x)))\n",
    "        return x\n"
   ]
  },
  {
   "cell_type": "code",
   "execution_count": 7,
   "id": "3b90fc5c",
   "metadata": {},
   "outputs": [],
   "source": [
    "class GeneratorTransformer(nn.Module):\n",
    "    def __init__(self, vocab_size, d_model=256, num_heads=8, d_ff=1024,\n",
    "                 num_layers=6, dropout=0.1, max_len=128, pad_index=0, eos_index=2, tokenizer=None):\n",
    "        super().__init__()\n",
    "        self.embedding = Embedding(vocab_size, d_model, pad_index)\n",
    "        self.decoder = nn.ModuleList([\n",
    "            DecoderLayer(d_model, num_heads, d_ff, dropout)\n",
    "            for _ in range(num_layers)\n",
    "        ])\n",
    "        self.norm = nn.LayerNorm(d_model)\n",
    "        self.output = nn.Linear(d_model, vocab_size)\n",
    "\n",
    "        self.max_len = max_len\n",
    "        self.pad_index = pad_index\n",
    "        self.eos_index = eos_index\n",
    "        self.tokenizer = tokenizer\n",
    "\n",
    "    def make_mask(self, x):\n",
    "        T = x.size(1)\n",
    "        return torch.tril(torch.ones(T, T, device=x.device)).unsqueeze(0).unsqueeze(0).bool()\n",
    "\n",
    "    def forward(self, x):\n",
    "        mask = self.make_mask(x)\n",
    "        x = self.embedding(x)\n",
    "        for layer in self.decoder:\n",
    "            x = layer(x, mask)\n",
    "        x = self.norm(x)\n",
    "        return self.output(x)\n",
    "\n",
    "    def generate(self, prompt, context_len=50, temperature=1.0, max_out_tokens=100):\n",
    "        self.eval()\n",
    "        with torch.no_grad():\n",
    "            input_ids = self.tokenizer.encode(prompt).ids\n",
    "            input_ids = torch.tensor([input_ids], device=next(self.parameters()).device)\n",
    "\n",
    "            generated = input_ids.clone()\n",
    "\n",
    "            for _ in range(max_out_tokens):\n",
    "                context = generated[:, -context_len:]\n",
    "                logits = self.forward(context)\n",
    "                next_token_logits = logits[:, -1, :] / temperature\n",
    "                next_token = torch.multinomial(F.softmax(next_token_logits, dim=-1), 1)\n",
    "                generated = torch.cat([generated, next_token], dim=1)\n",
    "\n",
    "                if next_token.item() == self.eos_index:\n",
    "                    break\n",
    "\n",
    "        return self.tokenizer.decode(generated[0].tolist())\n"
   ]
  },
  {
   "cell_type": "code",
   "execution_count": 19,
   "id": "4fc0a6d0",
   "metadata": {},
   "outputs": [],
   "source": [
    "def train(model, dataloader, optimizer, device, epochs=3):\n",
    "    model.train()\n",
    "    criterion = nn.CrossEntropyLoss(ignore_index=model.pad_index)\n",
    "\n",
    "    for epoch in range(epochs):\n",
    "        total_loss = 0\n",
    "        for x, y in tqdm(dataloader, desc=f\"Epoch {epoch+1}\"):\n",
    "            x, y = x.to(device), y.to(device)\n",
    "\n",
    "            optimizer.zero_grad()\n",
    "            logits = model(x)\n",
    "            loss = criterion(logits.view(-1, logits.size(-1)), y.view(-1))\n",
    "            loss.backward()\n",
    "            optimizer.step()\n",
    "\n",
    "            total_loss += loss.item()\n",
    "\n",
    "        avg_loss = total_loss / len(dataloader)\n",
    "        print(f\"Epoch {epoch+1}: Loss = {avg_loss:.4f}\")\n"
   ]
  },
  {
   "cell_type": "code",
   "execution_count": 20,
   "id": "54b6bbfb",
   "metadata": {},
   "outputs": [
    {
     "name": "stderr",
     "output_type": "stream",
     "text": [
      "Epoch 1: 100%|██████████| 6365/6365 [14:22<00:00,  7.38it/s]\n"
     ]
    },
    {
     "name": "stdout",
     "output_type": "stream",
     "text": [
      "Epoch 1: Loss = 4.7989\n"
     ]
    },
    {
     "name": "stderr",
     "output_type": "stream",
     "text": [
      "Epoch 2: 100%|██████████| 6365/6365 [14:20<00:00,  7.40it/s]\n"
     ]
    },
    {
     "name": "stdout",
     "output_type": "stream",
     "text": [
      "Epoch 2: Loss = 3.8317\n"
     ]
    },
    {
     "name": "stderr",
     "output_type": "stream",
     "text": [
      "Epoch 3: 100%|██████████| 6365/6365 [16:03<00:00,  6.61it/s]"
     ]
    },
    {
     "name": "stdout",
     "output_type": "stream",
     "text": [
      "Epoch 3: Loss = 3.4613\n"
     ]
    },
    {
     "name": "stderr",
     "output_type": "stream",
     "text": [
      "\n"
     ]
    }
   ],
   "source": [
    "# Загрузка и обучение\n",
    "device = torch.device(\"cuda\" if torch.cuda.is_available() else \"cpu\")\n",
    "\n",
    "with open(\"war_and_peace.txt\", \"r\", encoding=\"windows-1251\") as f:\n",
    "    text = f.read()\n",
    "\n",
    "dataset = TextDataset(text, tokenizer=tokenizer, max_length=32)\n",
    "dataloader = DataLoader(dataset, batch_size=1, shuffle=True)\n",
    "\n",
    "model = GeneratorTransformer(\n",
    "    vocab_size=vocab_size,\n",
    "    pad_index=pad_id,\n",
    "    eos_index=eos_id,\n",
    "    tokenizer=tokenizer\n",
    ").to(device)\n",
    "\n",
    "optimizer = optim.Adam(model.parameters(), lr=1e-4)\n",
    "\n",
    "train(model, dataloader, optimizer, device, epochs=3)\n"
   ]
  },
  {
   "cell_type": "code",
   "execution_count": 23,
   "id": "7d0ef091",
   "metadata": {},
   "outputs": [
    {
     "name": "stdout",
     "output_type": "stream",
     "text": [
      "Generated: Однажды генерал табуреткая, как будто не видела нежется, – сказала Анна Павловна Михайловна, несловна, но не взявловлан, улым и упреки,\n"
     ]
    }
   ],
   "source": [
    "prompt = \"Однажды генерал табуретка\"\n",
    "output = model.generate(prompt, context_len=50, temperature=0.8, max_out_tokens=50)\n",
    "print(\"Generated:\", output)"
   ]
  }
 ],
 "metadata": {
  "kernelspec": {
   "display_name": "venv",
   "language": "python",
   "name": "python3"
  },
  "language_info": {
   "codemirror_mode": {
    "name": "ipython",
    "version": 3
   },
   "file_extension": ".py",
   "mimetype": "text/x-python",
   "name": "python",
   "nbconvert_exporter": "python",
   "pygments_lexer": "ipython3",
   "version": "3.12.4"
  }
 },
 "nbformat": 4,
 "nbformat_minor": 5
}
